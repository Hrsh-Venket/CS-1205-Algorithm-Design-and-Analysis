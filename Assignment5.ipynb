{
 "cells": [
  {
   "cell_type": "code",
   "execution_count": 16,
   "metadata": {},
   "outputs": [],
   "source": [
    "# Question 1\n",
    "# 1.1\n",
    "parent = {}\n",
    "rank = {}\n",
    "\n",
    "def make_set(x):\n",
    "    parent[x] = x\n",
    "    rank[x] = 0\n",
    "\n",
    "def union(x, y):\n",
    "    x = find(x)\n",
    "    y = find(y)\n",
    "    if x == y:\n",
    "        return\n",
    "    if rank[x] > rank[y]:\n",
    "        parent[y] = x\n",
    "    else:\n",
    "        parent[x] = y\n",
    "        if rank[x] == rank[y]:\n",
    "            rank[y] += 1\n",
    "\n",
    "def find(x):\n",
    "    if parent[x] != x:\n",
    "        parent[x] = find(parent[x])\n",
    "    return parent[x]"
   ]
  },
  {
   "cell_type": "code",
   "execution_count": 24,
   "metadata": {},
   "outputs": [
    {
     "name": "stdout",
     "output_type": "stream",
     "text": [
      "5\n",
      "10\n",
      "5\n"
     ]
    }
   ],
   "source": [
    "# 1.2 and 1.3\n",
    "# the elements in each set are represented in brackets:\n",
    "    # ie. (b) means b is in a set by itself\n",
    "# the arrows represent the parent-child relationship:\n",
    "    # ie. (a -> b) means a is the child of b\n",
    "# the element in a set to which all arrows lead to is the root of that set\n",
    "# the root represents the set\n",
    "# the sets are separated by commas\n",
    "\n",
    "make_set(1)\n",
    "# (1)\n",
    "make_set(2)\n",
    "# (1), (2)\n",
    "make_set(3)\n",
    "# (1), (2), (3)\n",
    "make_set(4)\n",
    "# (1), (2), (3), (4)\n",
    "make_set(5)\n",
    "# (1), (2), (3), (4), (5)\n",
    "make_set(6)\n",
    "# (1), (2), (3), (4), (5), (6)\n",
    "make_set(7)\n",
    "# (1), (2), (3), (4), (5), (6), (7)\n",
    "make_set(8)\n",
    "# (1), (2), (3), (4), (5), (6), (7), (8)\n",
    "make_set(9)\n",
    "# (1), (2), (3), (4), (5), (6), (7), (8), (9)\n",
    "make_set(10)\n",
    "# (1), (2), (3), (4), (5), (6), (7), (8), (9), (10)\n",
    "union(1, 2)\n",
    "# (1 -> 2), (3), 4), (5), (6), (7), (8), (9), (10)\n",
    "union(2, 3)\n",
    "# (1 -> 2 <- 3), (4), (5), (6), (7), (8), (9), (10)\n",
    "union(4, 5)\n",
    "# (1 -> 2 <- 3), (4 -> 5), (6), (7), (8), (9), (10)\n",
    "union(3,4)\n",
    "# (4 -> 5\n",
    "#       ^\n",
    "#       |\n",
    "#  1 -> 2 <- 3), (6), (7), (8), (9), (10)\n",
    "print(find(1))\n",
    "# 1's parent is 2, 2's parent is 5, so 1 returns 5 \n",
    "# (1 is in the set represented by 5)\n",
    "print(find(10))\n",
    "# 10's parent is 10, so 10 returns 10 \n",
    "# (10 is in the singleton set represented by 10)\n",
    "print(find(5))\n",
    "# 5's parent is 5, so 5 returns 5\n",
    "# (5 is in the set it represents)"
   ]
  },
  {
   "cell_type": "code",
   "execution_count": 16,
   "metadata": {},
   "outputs": [],
   "source": [
    "# Question 2\n",
    "# 2.1\n",
    "def matrix_chain_order(p):\n",
    "    n = len(p)\n",
    "    m = [[0 for x in range(n)] for y in range(n)]\n",
    "    s = [[0 for x in range(n)] for y in range(n)]\n",
    "    for l in range(2,n+1):\n",
    "        for i in range(1,n-l+1):\n",
    "            j = i+l-1\n",
    "            m[i][j] = 100000\n",
    "            for k in range(i,j):\n",
    "                q = m[i][k] + m[k+1][j] + p[i-1]*p[k]*p[j]\n",
    "                if q < m[i][j]:\n",
    "                    m[i][j] = q\n",
    "                    s[i][j] = k\n",
    "    # print optimal parenthesis\n",
    "    return m, s, m[1][n-1]\n"
   ]
  },
  {
   "cell_type": "code",
   "execution_count": 17,
   "metadata": {},
   "outputs": [
    {
     "data": {
      "text/plain": [
       "([[0, 0, 0, 0, 0, 0],\n",
       "  [0, 0, 400, 1150, 2900, 3700],\n",
       "  [0, 0, 0, 600, 2300, 3180],\n",
       "  [0, 0, 0, 0, 1500, 2700],\n",
       "  [0, 0, 0, 0, 0, 3600],\n",
       "  [0, 0, 0, 0, 0, 0]],\n",
       " [[0, 0, 0, 0, 0, 0],\n",
       "  [0, 0, 1, 2, 2, 2],\n",
       "  [0, 0, 0, 2, 2, 2],\n",
       "  [0, 0, 0, 0, 3, 4],\n",
       "  [0, 0, 0, 0, 0, 4],\n",
       "  [0, 0, 0, 0, 0, 0]],\n",
       " 3700)"
      ]
     },
     "execution_count": 17,
     "metadata": {},
     "output_type": "execute_result"
    }
   ],
   "source": [
    "# Question 2.2\n",
    "p = [10, 8, 5, 15, 20, 12]\n",
    "matrix_chain_order(p)\n",
    "\n",
    "# From this, we can the sequence of parenthesis is:\n",
    "# (A1A2)((A3A4)A5)\n",
    "# and the output below returns m, s, and the optimal number of scalar multiplications\n"
   ]
  },
  {
   "cell_type": "code",
   "execution_count": 20,
   "metadata": {},
   "outputs": [
    {
     "name": "stdout",
     "output_type": "stream",
     "text": [
      "BC\n",
      "dsadsans\n",
      "dNSAKSANDLSAK\n"
     ]
    }
   ],
   "source": [
    "# Question 3\n",
    "def longest_common_subsequence(a,b):\n",
    "    m = [[0 for x in range(len(b)+1)] for y in range(len(a)+1)]\n",
    "    \n",
    "    for i in range(1,len(a)+1):\n",
    "        for j in range(1,len(b)+1):\n",
    "            if a[i-1] == b[j-1]:\n",
    "                m[i][j] = m[i-1][j-1] + 1\n",
    "            else:\n",
    "                m[i][j] = max(m[i-1][j], m[i][j-1])\n",
    "    \n",
    "    lcs = []\n",
    "    i, j = len(a), len(b)\n",
    "    while i > 0 and j > 0:\n",
    "        if a[i-1] == b[j-1]:\n",
    "            lcs.append(a[i-1])\n",
    "            i -= 1\n",
    "            j -= 1\n",
    "        elif m[i-1][j] > m[i][j-1]:\n",
    "            i -= 1\n",
    "        else:\n",
    "            j -= 1\n",
    "    \n",
    "    lcs.reverse()\n",
    "    return''.join(lcs)\n",
    "\n",
    "print(longest_common_subsequence('ABBC', 'BDCA'))\n",
    "\n",
    "#   - A B C B\n",
    "# - 0 0 0 0 0\n",
    "# B 0 0 1 1 1\n",
    "# D 0 0 1 1 1\n",
    "# C 0 0 1 2 2\n",
    "# A 0 1 1 2 2\n",
    "\n",
    "# from this, we can see that the longest common subsequence is BC since BB and CC are when the value increases\n",
    "\n",
    "print(longest_common_subsequence(\"dsadsanfos\", \"dsdnsjaknjkdsandasd\"))\n",
    "print(longest_common_subsequence(\"jbaudooNSLADKSANKDLSAKJNkflssakdnasds\", \"dNJBUISAIBINKDLSANMDLSAHDIOSIhDKOASDW\"))"
   ]
  }
 ],
 "metadata": {
  "kernelspec": {
   "display_name": "base",
   "language": "python",
   "name": "python3"
  },
  "language_info": {
   "codemirror_mode": {
    "name": "ipython",
    "version": 3
   },
   "file_extension": ".py",
   "mimetype": "text/x-python",
   "name": "python",
   "nbconvert_exporter": "python",
   "pygments_lexer": "ipython3",
   "version": "3.9.5"
  },
  "orig_nbformat": 4
 },
 "nbformat": 4,
 "nbformat_minor": 2
}
