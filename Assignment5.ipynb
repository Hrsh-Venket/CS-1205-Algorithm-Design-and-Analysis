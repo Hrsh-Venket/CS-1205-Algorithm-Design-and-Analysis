{
 "cells": [
  {
   "cell_type": "code",
   "execution_count": 51,
   "metadata": {},
   "outputs": [],
   "source": [
    "# Question 1\n",
    "# 1.1\n",
    "parent = {}\n",
    "rank = {}\n",
    "\n",
    "def make_set(x):\n",
    "    parent[x] = x\n",
    "    rank[x] = 0\n",
    "\n",
    "def union(x, y):\n",
    "    x = find(x)\n",
    "    y = find(y)\n",
    "    if x == y:\n",
    "        return\n",
    "    if rank[x] > rank[y]:\n",
    "        parent[y] = x\n",
    "    else:\n",
    "        parent[x] = y\n",
    "        if rank[x] == rank[y]:\n",
    "            rank[y] += 1\n",
    "\n",
    "def find(x):\n",
    "    if parent[x] != x:\n",
    "        parent[x] = find(parent[x])\n",
    "    return parent[x]"
   ]
  },
  {
   "cell_type": "code",
   "execution_count": 108,
   "metadata": {},
   "outputs": [],
   "source": [
    "# Question 2\n",
    "def matrix_chain_order(p):\n",
    "    n = len(p)-1\n",
    "    m = [[0 for x in range(n)] for y in range(n)]\n",
    "    s = [[0 for x in range(n)] for y in range(n)]\n",
    "    for l in range(2,n):\n",
    "        for i in range(1,n-l+1):\n",
    "            j = i+l-1\n",
    "            m[i][j] = 100000\n",
    "            for k in range(i,j):\n",
    "                q = m[i][k] + m[k+1][j] + p[i-1]*p[k]*p[j]\n",
    "                if q < m[i][j]:\n",
    "                    m[i][j] = q\n",
    "                    s[i][j] = k\n",
    "    # print optimal parenthesis\n",
    "    return m, s\n",
    "\n"
   ]
  },
  {
   "cell_type": "code",
   "execution_count": 113,
   "metadata": {},
   "outputs": [],
   "source": [
    "# A naive recursive implementation that\n",
    "# simply follows the above optimal\n",
    "# substructure property\n",
    "import sys\n",
    "\n",
    "# Matrix A[i] has dimension p[i-1] x p[i]\n",
    "# for i = 1..n\n",
    "def MatrixChainOrder(p, i, j):\n",
    "\n",
    "\tif i == j:\n",
    "\t\treturn 0\n",
    "\n",
    "\t_min = sys.maxsize\n",
    "\t\n",
    "\t# place parenthesis at different places\n",
    "\t# between first and last matrix,\n",
    "\t# recursively calculate count of\n",
    "\t# multiplications for each parenthesis\n",
    "\t# placement and return the minimum count\n",
    "\tfor k in range(i, j):\n",
    "\t\n",
    "\t\tcount = (MatrixChainOrder(p, i, k)\n",
    "\t\t\t+ MatrixChainOrder(p, k + 1, j)\n",
    "\t\t\t\t+ p[i-1] * p[k] * p[j])\n",
    "\n",
    "\t\tif count < _min:\n",
    "\t\t\t_min = count;\n",
    "\t\n",
    "\n",
    "\t# Return minimum count\n",
    "\treturn _min;\n",
    "\n"
   ]
  },
  {
   "cell_type": "code",
   "execution_count": 118,
   "metadata": {},
   "outputs": [
    {
     "data": {
      "text/plain": [
       "3700"
      ]
     },
     "execution_count": 118,
     "metadata": {},
     "output_type": "execute_result"
    }
   ],
   "source": [
    "p = [10, 8, 5, 15, 20, 12]\n",
    "# matrix_chain_order(p)\n",
    "MatrixChainOrder(p, 1, len(p)-1)"
   ]
  },
  {
   "cell_type": "code",
   "execution_count": 50,
   "metadata": {},
   "outputs": [
    {
     "name": "stdout",
     "output_type": "stream",
     "text": [
      "BDAB\n",
      "dsadsans\n",
      "dNSAKSANDLSAK\n"
     ]
    }
   ],
   "source": [
    "# Question 3\n",
    "def longest_common_subsequence(a,b):\n",
    "    m = [[0 for x in range(len(b)+1)] for y in range(len(a)+1)]\n",
    "    \n",
    "    for i in range(1,len(a)+1):\n",
    "        for j in range(1,len(b)+1):\n",
    "            if a[i-1] == b[j-1]:\n",
    "                m[i][j] = m[i-1][j-1] + 1\n",
    "            else:\n",
    "                m[i][j] = max(m[i-1][j], m[i][j-1])\n",
    "    \n",
    "    lcs = []\n",
    "    i, j = len(a), len(b)\n",
    "    while i > 0 and j > 0:\n",
    "        if a[i-1] == b[j-1]:\n",
    "            lcs.append(a[i-1])\n",
    "            i -= 1\n",
    "            j -= 1\n",
    "        elif m[i-1][j] > m[i][j-1]:\n",
    "            i -= 1\n",
    "        else:\n",
    "            j -= 1\n",
    "    \n",
    "    lcs.reverse()\n",
    "    return''.join(lcs)\n",
    "\n",
    "print(longest_common_subsequence('ABCBDAB', 'BDCABA'))\n",
    "print(longest_common_subsequence(\"dsadsanfos\", \"dsdnsjaknjkdsandasd\"))\n",
    "print(longest_common_subsequence(\"jbaudooNSLADKSANKDLSAKJNkflssakdnasds\", \"dNJBUISAIBINKDLSANMDLSAHDIOSIhDKOASDW\"))"
   ]
  },
  {
   "cell_type": "code",
   "execution_count": 45,
   "metadata": {},
   "outputs": [
    {
     "data": {
      "text/plain": [
       "'BDAB'"
      ]
     },
     "execution_count": 45,
     "metadata": {},
     "output_type": "execute_result"
    }
   ],
   "source": [
    "longest_common_subsequence(\"ABCBDAB\", \"BDCABA\")"
   ]
  },
  {
   "cell_type": "code",
   "execution_count": null,
   "metadata": {},
   "outputs": [],
   "source": [
    "# import numpy as np\n",
    "\n",
    "# # question 2\n",
    "\n",
    "# # A1: 10 x 8\n",
    "# A1 = [[0,0,0,0,0,0,0,0],\n",
    "#       [0,0,0,0,0,0,0,0],\n",
    "#       [0,0,0,0,0,0,0,0],\n",
    "#       [0,0,0,0,0,0,0,0],\n",
    "#       [0,0,0,0,0,0,0,0],\n",
    "#       [0,0,0,0,0,0,0,0],\n",
    "#       [0,0,0,0,0,0,0,0],\n",
    "#       [0,0,0,0,0,0,0,0]]\n",
    "\n",
    "# # A2: 8 x 5\n",
    "# A2 = [[0,0,0,0,0],\n",
    "#       [0,0,0,0,0],\n",
    "#       [0,0,0,0,0],\n",
    "#       [0,0,0,0,0],\n",
    "#       [0,0,0,0,0],\n",
    "#       [0,0,0,0,0],\n",
    "#       [0,0,0,0,0],\n",
    "#       [0,0,0,0,0]]\n",
    "\n",
    "# # A3: 5 x 15\n",
    "# A3 = [[0,0,0,0,0,0,0,0,0,0,0,0,0,0,0],\n",
    "#       [0,0,0,0,0,0,0,0,0,0,0,0,0,0,0],\n",
    "#       [0,0,0,0,0,0,0,0,0,0,0,0,0,0,0],\n",
    "#       [0,0,0,0,0,0,0,0,0,0,0,0,0,0,0],\n",
    "#       [0,0,0,0,0,0,0,0,0,0,0,0,0,0,0]]\n",
    "\n",
    "\n",
    "# # A4: 15 x 20\n",
    "# A4 = [[0,0,0,0,0,0,0,0,0,0,0,0,0,0,0,0,0,0,0,0],\n",
    "#       [0,0,0,0,0,0,0,0,0,0,0,0,0,0,0,0,0,0,0,0],\n",
    "#       [0,0,0,0,0,0,0,0,0,0,0,0,0,0,0,0,0,0,0,0],\n",
    "#       [0,0,0,0,0,0,0,0,0,0,0,0,0,0,0,0,0,0,0,0],\n",
    "#       [0,0,0,0,0,0,0,0,0,0,0,0,0,0,0,0,0,0,0,0],\n",
    "#       [0,0,0,0,0,0,0,0,0,0,0,0,0,0,0,0,0,0,0,0],\n",
    "#       [0,0,0,0,0,0,0,0,0,0,0,0,0,0,0,0,0,0,0,0],\n",
    "#       [0,0,0,0,0,0,0,0,0,0,0,0,0,0,0,0,0,0,0,0],\n",
    "#       [0,0,0,0,0,0,0,0,0,0,0,0,0,0,0,0,0,0,0,0],\n",
    "#       [0,0,0,0,0,0,0,0,0,0,0,0,0,0,0,0,0,0,0,0],\n",
    "#       [0,0,0,0,0,0,0,0,0,0,0,0,0,0,0,0,0,0,0,0],\n",
    "#       [0,0,0,0,0,0,0,0,0,0,0,0,0,0,0,0,0,0,0,0],\n",
    "#       [0,0,0,0,0,0,0,0,0,0,0,0,0,0,0,0,0,0,0,0],\n",
    "#       [0,0,0,0,0,0,0,0,0,0,0,0,0,0,0,0,0,0,0,0],\n",
    "#       [0,0,0,0,0,0,0,0,0,0,0,0,0,0,0,0,0,0,0,0]]\n",
    "\n",
    "# # A5 = 20 x 12\n",
    "# A5 = [[0,0,0,0,0,0,0,0,0,0,0,0],\n",
    "#       [0,0,0,0,0,0,0,0,0,0,0,0],\n",
    "#       [0,0,0,0,0,0,0,0,0,0,0,0],\n",
    "#       [0,0,0,0,0,0,0,0,0,0,0,0],\n",
    "#       [0,0,0,0,0,0,0,0,0,0,0,0],\n",
    "#       [0,0,0,0,0,0,0,0,0,0,0,0],\n",
    "#       [0,0,0,0,0,0,0,0,0,0,0,0],\n",
    "#       [0,0,0,0,0,0,0,0,0,0,0,0],\n",
    "#       [0,0,0,0,0,0,0,0,0,0,0,0],\n",
    "#       [0,0,0,0,0,0,0,0,0,0,0,0],\n",
    "#       [0,0,0,0,0,0,0,0,0,0,0,0],\n",
    "#       [0,0,0,0,0,0,0,0,0,0,0,0],\n",
    "#       [0,0,0,0,0,0,0,0,0,0,0,0],\n",
    "#       [0,0,0,0,0,0,0,0,0,0,0,0],\n",
    "#       [0,0,0,0,0,0,0,0,0,0,0,0],\n",
    "#       [0,0,0,0,0,0,0,0,0,0,0,0],\n",
    "#       [0,0,0,0,0,0,0,0,0,0,0,0],\n",
    "#       [0,0,0,0,0,0,0,0,0,0,0,0],\n",
    "#       [0,0,0,0,0,0,0,0,0,0,0,0],\n",
    "#       [0,0,0,0,0,0,0,0,0,0,0,0]]\n"
   ]
  }
 ],
 "metadata": {
  "kernelspec": {
   "display_name": "base",
   "language": "python",
   "name": "python3"
  },
  "language_info": {
   "codemirror_mode": {
    "name": "ipython",
    "version": 3
   },
   "file_extension": ".py",
   "mimetype": "text/x-python",
   "name": "python",
   "nbconvert_exporter": "python",
   "pygments_lexer": "ipython3",
   "version": "3.9.5"
  },
  "orig_nbformat": 4
 },
 "nbformat": 4,
 "nbformat_minor": 2
}
